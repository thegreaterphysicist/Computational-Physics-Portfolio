{
 "cells": [
  {
   "cell_type": "markdown",
   "metadata": {},
   "source": [
    "# Unit 01 Project\n",
    "\n",
    "## Option 1\n",
    "\n",
    "Lissajous Figures arise from the motion of a two-dimensional harmonic oscillator described by:\n",
    "\n",
    "$$\\vec{F}_{net}=\\langle -k_1x, -k_2y, 0 \\rangle$$\n",
    "\n",
    "where $x$ and $y$ are coordinates in the x-y plane and $k$ is a characteristic \"stiffness\" of the motion in N/m. The stiffnesses $k$ can be written more generally as:\n",
    "\n",
    "$$k=m\\omega^2$$\n",
    "\n",
    "so the force can be written:\n",
    "\n",
    "$$\\vec{F}_{net}=\\langle -m\\omega_1^2x, -m\\omega_2^2y, 0 \\rangle$$\n",
    "\n",
    "When the ratio $\\omega_1/\\omega_2$ is equal to a ratio of integers like $1/2$, $1/3$, $2/3$, $2/1$, $3/2$, etc. interesting patterns in a graph of $y(x)$ (the \"mtoion\") emerge. With observation, you can learn to identify the ratio $\\omega_1\\omega_2$ by simply looking at the pattern.\n",
    "\n",
    "1. Write a narrative, integrated with code, that describes Lissajous Figures.\n",
    "1. Use and reference at least one quality source about Lissajous Figures.\n",
    "2. Model a two-dimensional harmonic oscillator by solving the momentum principle for this system.\n",
    "3. Explore the model by viewing the motion $y(x)$ with various integer ratios of $\\omega_1/\\omega_2$. Describe a way to identify the ratio by the motion.\n",
    "4. Explore the effect of different initial conditions on your model.\n"
   ]
  },
  {
   "cell_type": "markdown",
   "metadata": {},
   "source": [
    "## Option 2\n",
    "\n",
    "Model the motion of a hovercraft that has a horizontally applied force (via a leaf blower of course) that is not necessarily applied along an axis through the center of mass of the system. Include sliding friction in your model. Explore the model by changing various parameters, comparing motion with and without drag, etc."
   ]
  },
  {
   "cell_type": "markdown",
   "metadata": {},
   "source": [
    "## Option 3a\n",
    "\n",
    "In Module 1 of Lorena Barba's [Numerical Methods MOOC](https://github.com/numerical-mooc/numerical-mooc/tree/master/lessons/01_phugoid), readers explore the phugoid model of glider flight. This is the context in which one learns to solve ODEs. You have already learned to solve ODEs, but this makes an excellent context in which to apply your knowledge and experience. Read through the lessons and identify the physical model. Then write your own description and solution for the model. You don't need their coding instruction, nor should you use their pre-written functions. Intead, use only your own ODE solvers, but it's a good source for learning to describe the motion of a glider."
   ]
  },
  {
   "cell_type": "markdown",
   "metadata": {},
   "source": [
    "## Option 3b\n",
    "\n",
    "Select a paper from the American Journal of Physics and model the described phenomenon numerically. Here are examples of papers that might be of interest:\n",
    "\n",
    "1. [On trajectories of rolling marbles in cones and other funnels](https://doi.org/10.1119/1.4823475)\n",
    "2. [Asymmetric rolling bodies and the phantom torque](https://aapt.scitation.org/doi/full/10.1119/1.3456118)\n",
    "3. [Computing accurate age and distance factors in cosmology](https://aapt.scitation.org/doi/full/10.1119/1.3698352)\n",
    "4. [Magnetic braking revisited](https://aapt.scitation.org/doi/abs/10.1119/1.18672)"
   ]
  },
  {
   "cell_type": "code",
   "execution_count": null,
   "metadata": {},
   "outputs": [],
   "source": []
  }
 ],
 "metadata": {
  "kernelspec": {
   "display_name": "Python 3",
   "language": "python",
   "name": "python3"
  },
  "language_info": {
   "codemirror_mode": {
    "name": "ipython",
    "version": 3
   },
   "file_extension": ".py",
   "mimetype": "text/x-python",
   "name": "python",
   "nbconvert_exporter": "python",
   "pygments_lexer": "ipython3",
   "version": "3.6.5"
  }
 },
 "nbformat": 4,
 "nbformat_minor": 2
}
