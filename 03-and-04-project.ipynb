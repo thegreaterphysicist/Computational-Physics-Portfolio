{
 "cells": [
  {
   "cell_type": "markdown",
   "metadata": {},
   "source": [
    "# Unit 03-04 Project\n",
    "\n",
    "For this project, you can choose a topic pertaining to Unit 03 on coupled oscillators or Unit 04 on N-body molecular dynamics.\n",
    "\n",
    "## Option 1a\n",
    "\n",
    "Investigate the motion of a string that is fixed at one end and free at the other end. Here are some properties to consider:\n",
    "\n",
    "1. What are the boundary conditions?\n",
    "1. Show that a Gaussian reflecting off the free end does not invert.\n",
    "1. Find the eigenvalues and eigenvectors and compute the normal modes.\n",
    "1. Show the evolution of the string for a given initial condition (like a string plucked in the middle though one end is free).\n",
    "\n",
    "## Option 1b\n",
    "\n",
    "Add features to your molecular dynamics simulation and use your simulation to demonstrate properties of a gas. See Section 11.4.4 and project P.11 by Wang. Here are some properties to consider:\n",
    "\n",
    "1. To have a sense of the accuracy of your model, plot the relative error in the energy as a function of time.\n",
    "1. Plot a histogram of the speeds of the atoms. Compare it to a Maxwell-Boltzmann distribution.\n",
    "1. Compute the average pressure on one of the sides of the \"container.\"\n",
    "1. Simulate a 3D gas and use VPython for visualization.\n",
    "\n",
    "## Option 2a\n",
    "\n",
    "Consider a string with an initial condition that is a normal mode with each atom at its maximum displacement. By giving each atom a velocity tangent to a circle of radius equal to the vertical displacement of the atom, it should be possible to create a circularly polarized standing wave. I suggest visualizing it in VPython.\n",
    "\n",
    "## Option 2b\n",
    "\n",
    "Download the zip file for the [Molecular Dynamics Exploration JS Model](https://www.compadre.org/osp/items/detail.cfm?ID=13996) by Wolfgang Christian and Dan Schroeder. Implement some of these models in Python.\n",
    "\n",
    "## Option 3a\n",
    "\n",
    "Define your own project. Perhaps include non-uniform tension in a weighted string in gravitational field and see if it settles into the shape of a catenary.\n",
    "\n",
    "## Option 3b\n",
    "\n",
    "Define your own project for a N body simulation. Perhaps explore diffusion or evaporative cooling (where the most energetic atoms can escape the container).\n"
   ]
  },
  {
   "cell_type": "code",
   "execution_count": null,
   "metadata": {},
   "outputs": [],
   "source": []
  }
 ],
 "metadata": {
  "kernelspec": {
   "display_name": "Python 3",
   "language": "python",
   "name": "python3"
  },
  "language_info": {
   "codemirror_mode": {
    "name": "ipython",
    "version": 3
   },
   "file_extension": ".py",
   "mimetype": "text/x-python",
   "name": "python",
   "nbconvert_exporter": "python",
   "pygments_lexer": "ipython3",
   "version": "3.6.5"
  }
 },
 "nbformat": 4,
 "nbformat_minor": 2
}
