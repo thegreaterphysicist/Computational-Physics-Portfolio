{
 "cells": [
  {
   "cell_type": "markdown",
   "metadata": {},
   "source": [
    "# Unit 02 Project"
   ]
  },
  {
   "cell_type": "markdown",
   "metadata": {},
   "source": [
    "## Option 1\n",
    "\n",
    "Do project P5.3 (Wang). (For part (d), you do not have to use a FFT to find $r_\\infty$. You can investigate it numerically.)\n",
    "\n",
    "## Option 2\n",
    "\n",
    "Describe and characterize the Lorenz Model (described by Wang in Section 5.4). All code (except the occasional Python function or short algorithm to accomplish a certain task) should be your own. This is a famous problem in the history of chaos theory. Use references to other books. If you use others' code in any way, cite the author and source.\n",
    "\n",
    "## Option 3\n",
    "\n",
    "Select a chaotic system. Describe, investigate, and characterize the system. There are many systems described in *Nonlinear Dynamics and Chaos With Applications to Physics, Biology, Chemistry, and Engineering* by Steven Strogatz. You can also find other systems described by Wang in Chapter 5. If you use others' code in any way, cite the author and source. Do not copy entire programs. All code (except the occasional Python function or short algorithm to accomplish a certain task) should be your own."
   ]
  },
  {
   "cell_type": "markdown",
   "metadata": {},
   "source": [
    "## Grading Rubric\n",
    "\n",
    "Category | Poor (0-70%) | Good (70% - 85%) | Excellent (85%-100%)\n",
    ":---: | :--- | :--- | :---\n",
    "**Narrative** | There is very little narrative. Background information is not present or lacks detail. There is no story woven with the code. Mathematical markup is not used. No citations are included. | There is a narrative, but significant parts are missing. The writing does not flow. Sections headings are sparse. Mathematical markup is poor or insufficient. More and better citations are needed. | There is flow, and a clear storyline. Section headings are used to provide an outline. Mathematical markup is used correctly and sufficiently to display mathematics. Citations are sufficient in number and quality.\n",
    "**Code** | Code is missing or is not functional. Nothing is done to demonstrate that the code is operating correctly. Code is difficult to read. Results are missing or seriously incomplete. Visualization is not included. Units are inconsistent or incorrect. Algorithm is implemented incorrectly or the wrong algorithm chosen. There is significant error. | Code is mostly correct and the implementation or algorithm is a good method to use. Visualization is present, but titles and axes labels need improvement or visualization can be improved. Code is understandable and somewhat commented. Units are mostly consistent and correct.| The code runs flawlessly and is well-organized. The code is easy to read and understand. Units are indicated, consistent, and correct. Visualization is excellent. Techniques and algorithms are well-chosen and correctly implemented. Results are clear and understandable.\n",
    "**Difficulty** | The difficulty level is far beneath what one is capable of | The difficulty level is beneath what one is capable of. | The difficulty is well-matched to one's ablity."
   ]
  },
  {
   "cell_type": "code",
   "execution_count": null,
   "metadata": {},
   "outputs": [],
   "source": []
  }
 ],
 "metadata": {
  "kernelspec": {
   "display_name": "Python 3",
   "language": "python",
   "name": "python3"
  },
  "language_info": {
   "codemirror_mode": {
    "name": "ipython",
    "version": 3
   },
   "file_extension": ".py",
   "mimetype": "text/x-python",
   "name": "python",
   "nbconvert_exporter": "python",
   "pygments_lexer": "ipython3",
   "version": "3.6.5"
  }
 },
 "nbformat": 4,
 "nbformat_minor": 2
}
